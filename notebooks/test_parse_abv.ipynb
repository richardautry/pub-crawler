{
 "cells": [
  {
   "cell_type": "code",
   "execution_count": 1,
   "id": "6aca287a-87ff-4c7d-9a83-05ac1ecb0e65",
   "metadata": {},
   "outputs": [],
   "source": [
    "import sys\n",
    "sys.path.append('..')\n",
    "\n",
    "from pub_crawler.tests.spiders.test_beer_spider import *"
   ]
  },
  {
   "cell_type": "code",
   "execution_count": 2,
   "id": "263612e9-9ba9-4c15-8bc7-2c94e67d0160",
   "metadata": {},
   "outputs": [
    {
     "data": {
      "text/plain": [
       "{'': {'name': '', 'style': 'IPA', 'abv': '6.9%'},\n",
       " 'IPA': {'name': 'IPA', 'style': 'IPA', 'abv': '6.9%'}}"
      ]
     },
     "execution_count": 2,
     "metadata": {},
     "output_type": "execute_result"
    }
   ],
   "source": [
    "# TODO: This needs to return \"Stone IPA\" as the name\n",
    "response = get_response(STONE_IPA_DATA)\n",
    "value_gen  = list(BeerSpider.parse_abv(response))\n",
    "values_dict = {data[\"name\"]: data for data in value_gen}\n",
    "values_dict"
   ]
  }
 ],
 "metadata": {
  "kernelspec": {
   "display_name": "Python 3 (ipykernel)",
   "language": "python",
   "name": "python3"
  },
  "language_info": {
   "codemirror_mode": {
    "name": "ipython",
    "version": 3
   },
   "file_extension": ".py",
   "mimetype": "text/x-python",
   "name": "python",
   "nbconvert_exporter": "python",
   "pygments_lexer": "ipython3",
   "version": "3.8.10"
  }
 },
 "nbformat": 4,
 "nbformat_minor": 5
}
