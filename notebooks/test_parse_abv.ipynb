{
 "cells": [
  {
   "cell_type": "code",
   "execution_count": 1,
   "id": "6aca287a-87ff-4c7d-9a83-05ac1ecb0e65",
   "metadata": {},
   "outputs": [],
   "source": [
    "import sys\n",
    "sys.path.append('..')\n",
    "\n",
    "from pub_crawler.tests.spiders.test_beer_spider import *"
   ]
  },
  {
   "cell_type": "code",
   "execution_count": 2,
   "id": "263612e9-9ba9-4c15-8bc7-2c94e67d0160",
   "metadata": {},
   "outputs": [
    {
     "data": {
      "text/plain": [
       "[]"
      ]
     },
     "execution_count": 2,
     "metadata": {},
     "output_type": "execute_result"
    }
   ],
   "source": [
    "# TODO: This needs to return \"Stone IPA\" as the name\n",
    "response = get_response(NORTH_COAST_PRANQSTER_DATA)\n",
    "beer_spider = BeerSpider(NORTH_COAST_PRANQSTER_DATA.url)\n",
    "value_gen  = list(beer_spider.parse_abv(response))\n",
    "value_gen"
   ]
  },
  {
   "cell_type": "code",
   "execution_count": 3,
   "id": "519c54e5-57f2-4ff7-884b-55ec750dc8dc",
   "metadata": {},
   "outputs": [
    {
     "data": {
      "text/plain": [
       "\"                PranQster Belgian Style Golden Ale | North Coast Brewing Co.                                                            Please click here if you are not redirected within a few seconds.         opens in a new window Facebook     opens in a new window Twitter     opens in a new window Pinterest     opens in a new window Instagram     opens in a new window Untappd     opens in a new window Maps          opens in a new window Facebook     opens in a new window Twitter     opens in a new window Pinterest     opens in a new window Instagram     opens in a new window Untappd     opens in a new window Maps                SELECT PAGEBeersYEAR ROUND BEERSAcme IPABlue StarBrother TheloniousFoggy Day IPALaguna BajaLe MerleNorth Coast Steller IPAOld No. 38Old RasputinOld Stock AlePranQsterRed Seal AleScrimshawSEASONAL BEERSTart Cherry BerlinerBARREL-AGED-BEERSBarrel Aged Old Rasputin XXIIIOld Stock Ale Cellar Reserve 2020Old Stock Ale Cellar Reserve 2018LIMITED RESERVE BEERSBarrel-Aged Old Rasputin XIBarrel-Aged Old Rasputin XIVBarrel-Aged Old Rasputin XVBarrel-Aged Old Rasputin XVIBarrel-Aged Old Rasputin XVIIBarrel-Aged Old Rasputin XVIIIBarrel-Aged Old Rasputin XIXBarrel-Aged Old Rasputin XXBarrel-Aged Old Rasputin XXIOld Stock Ale Cellar Reserve 2009Barrel-Aged Old Rasputin XXIIOld Stock Cellar Reserve 2011Old Stock Cellar Reserve 2013Old Stock Ale Cellar Reserve 2014Old Stock Cellar Reserve 2015Old Stock Cellar Reserve 2017Class of ’88 BarleywineTwentieth Anniversary AleALL BEERSBeer LocatorBelgiansBestsellersIPAsNon-GMO BeersSessions CloseOur StoryIndependent Since 1988Giving BackWho We AreOur Partner OrganizationsLocationVideo Stories CloseSustainabilityCertified B CorporationCarbon FarmingMarine Mammal FundNon-GMO Project VerificationSolar EnergyZero Waste CertificationSustainability Report CloseNews CloseShopZymurgyTaproomTaproomMenu Close                          PranQster Belgian Style Golden Ale Belgian Ales represent the height of the brewers’ art. Sophisticated brewing techniques, yeast blends, and unique flavoring elements have elevated the beers of Belgium to the status enjoyed by wine in other countries. PranQster follows in this tradition using a mixed culture of antique yeast strains that produce a floral nose, a full fruity flavor, and a clean finish. Available in 12 oz 4-packs and 750 ml bottles.  FIND PRANQSTER NEAR YOU            STYLE Belgian Style Golden Ale COLOR Soft Gold ABV 7.6% BITTERNESS 20 IBUs    opens in a new window                   STYLE Belgian Style Golden Ale COLOR Soft Gold ABV 7.6% BITTERNESS 20 IBUs                WHAT IS IN A NAME From co-founder Tom Allen, “The Belgians had established naming their beers with a slightly wicked reference – Duvel, Lucifer, Verboten, etc. We liked that, and so followed PranQster trading on the Belgian precedent with a light touch.” It also gives us great pleasure to allude to the Northern California history of Ken Kesey and the Merry Pranksters which is a noted part of our regional history. The “Q” is included for uniqueness and fits the unique qualities in this ale.          THE NAME From co-founder Tom Allen, “The Belgians had established naming their beers with a slightly wicked reference – Duvel, Lucifer, Verboten, etc. We liked that, and so followed PranQster trading on the Belgian precedent with a light touch.” It also gives us great pleasure to allude to the Northern California history of Ken Kesey and the Merry Pranksters which is a noted part of our regional history. The “Q” is included for uniqueness and fits the unique qualities in this ale.        PranQster has won the Gold for the best Belgian Style Pale Ale at the 2014 San Diego International Beer Competition. The judging was conducted by hops and barley loving industry professionals in a blind tasting. Already a four time gold medal winner, PranQster was awarded number five.        PRANQSTER ALE MEDALS & AWARDS      GOLD  2014 International Beer Competition, San Diego 2003 World Beer Championships, Chicago 2002 World Beer Championships, Chicago 1998 World Beer Championships, Chicago 1996 World Beer Championships, Chicago     SILVER  2003 GABF, Belgian Style Abbey Ale         PRANQSTER ALE MEDALS & AWARDS      GOLD  2014 International Beer Competition, San Diego 2003 World Beer Championships, Chicago 2002 World Beer Championships, Chicago 1998 World Beer Championships, Chicago 1996 World Beer Championships, Chicago     SILVER  2003 GABF, Belgian Style Abbey Ale         CHEESE PAIRINGS Point Reyes Blue, Pecorino Pepato, Aged Swiss (such as Alpha Tolman), Fiscalini Cheddar, Dutch Leyden with Cumin, Neil’s Yard Dairy Gubbeen, Unikaas Gold aged Gouda, Yodeling Goat         BEER GEAR     BUY THIS BEER        BREWERS NOTES From co-Brewmaster, Patrick Broderick, “PranQster was a fun beer to create. During the trials we brewed the beer in batches with a number of Belgian strains of yeast and sat down one day in 1995 to see which strain we liked the best. One of us poured two of the samples together and viola we had found the perfect blend of banana-like fruit and clove-like phenol character that we were looking for. It’s not an easy trick to propagate from two separate strains of yeast each time we brew the beer but the effort is well worth it. PranQster, like the originals from Belgium, is one-of-a kind!”        BREWERS NOTES From co-Brewmaster, Patrick Broderick, “PranQster was a fun beer to create. During the trials we brewed the beer in batches with a number of Belgian strains of yeast and sat down one day in 1995 to see which strain we liked the best. One of us poured two of the samples together and viola we had found the perfect blend of banana-like fruit and clove-like phenol character that we were looking for. It’s not an easy trick to propagate from two separate strains of yeast each time we brew the beer but the effort is well worth it. PranQster, like the originals from Belgium, is one-of-a kind!”        “The Good Food Awards would like to honor North Coast for its PranQster Belgian Style Golden Ale, a beer that tastes as good as the values behind it.” Good Food Awards               E-news Sign UpSUBSCRIBE NOW »Contact Location Taproom Employment   Contact Location Taproom Employment    Donation Requests Policies Distributor List Distributors Section   Subscribe to our mailing listDonation Requests Policies Distributor List Distributors Section                    opens in a new window Facebook     opens in a new window Twitter     opens in a new window Pinterest     opens in a new window Instagram     opens in a new window Untappd     opens in a new window Maps    © 2021 North Coast Brewing Company, Inc. • 455 North Main Street, Fort Bragg, CA 95437 • Graphics by  opens in a new windowNoe\\xa0Designs       Subscribe to learn about new releases, promotions and to receive the latest brew news.  EMAIL    FIRST NAME    LAST NAME    AREA OF INTEREST   General News     Leave this field empty if you're human:                              \""
      ]
     },
     "execution_count": 3,
     "metadata": {},
     "output_type": "execute_result"
    }
   ],
   "source": [
    "from pub_crawler.pub_crawler.spiders.beer_spider import *\n",
    "response_soup = BeautifulSoup(response.text, \"html.parser\")\n",
    "response_soup.text"
   ]
  },
  {
   "cell_type": "code",
   "execution_count": 4,
   "id": "f412d648-3fb6-4a0c-9395-fcb7b3120342",
   "metadata": {},
   "outputs": [
    {
     "ename": "NameError",
     "evalue": "name 'candidates' is not defined",
     "output_type": "error",
     "traceback": [
      "\u001b[0;31m---------------------------------------------------------------------------\u001b[0m",
      "\u001b[0;31mNameError\u001b[0m                                 Traceback (most recent call last)",
      "\u001b[0;32m/tmp/ipykernel_63872/1405987108.py\u001b[0m in \u001b[0;36m<module>\u001b[0;34m\u001b[0m\n\u001b[0;32m----> 1\u001b[0;31m \u001b[0;32mfor\u001b[0m \u001b[0mcandidate\u001b[0m \u001b[0;32min\u001b[0m \u001b[0mcandidates\u001b[0m\u001b[0;34m:\u001b[0m\u001b[0;34m\u001b[0m\u001b[0;34m\u001b[0m\u001b[0m\n\u001b[0m\u001b[1;32m      2\u001b[0m     \u001b[0mprint\u001b[0m\u001b[0;34m(\u001b[0m\u001b[0mcandidate\u001b[0m\u001b[0;34m.\u001b[0m\u001b[0mfind\u001b[0m\u001b[0;34m(\u001b[0m\u001b[0mclass_\u001b[0m\u001b[0;34m=\u001b[0m\u001b[0mre\u001b[0m\u001b[0;34m.\u001b[0m\u001b[0mcompile\u001b[0m\u001b[0;34m(\u001b[0m\u001b[0;34m\"beer-title\"\u001b[0m\u001b[0;34m)\u001b[0m\u001b[0;34m)\u001b[0m\u001b[0;34m.\u001b[0m\u001b[0mtext\u001b[0m\u001b[0;34m)\u001b[0m\u001b[0;34m\u001b[0m\u001b[0;34m\u001b[0m\u001b[0m\n",
      "\u001b[0;31mNameError\u001b[0m: name 'candidates' is not defined"
     ]
    }
   ],
   "source": [
    "for candidate in candidates:\n",
    "    print(candidate.find(class_=re.compile(\"beer-title\")).text)"
   ]
  },
  {
   "cell_type": "code",
   "execution_count": null,
   "id": "cc96855b-4b09-40bd-9da1-59240c8178bb",
   "metadata": {},
   "outputs": [],
   "source": [
    "def text_elements_exist(div):\n",
    "    # name = div.findAll(text=re.compile(\"name|Name|NAME\"))\n",
    "    style = div.findAll(text=re.compile(\"style|Style|STYLE\"))\n",
    "    abv = div.findAll(text=re.compile(\"abv|ABV\"))\n",
    "    \n",
    "    elements_found = (0 < len(elements) < 5 for elements in [style, abv])\n",
    "    return all(elements_found)"
   ]
  },
  {
   "cell_type": "code",
   "execution_count": null,
   "id": "6a5e1d11-0522-48e4-8af4-d5537110a2cb",
   "metadata": {},
   "outputs": [],
   "source": [
    "candidates = response_soup.find_all(text_elements_exist)\n",
    "candidates"
   ]
  },
  {
   "cell_type": "code",
   "execution_count": 5,
   "id": "eb5ef099-12a8-41bc-9f59-c320f7f08334",
   "metadata": {},
   "outputs": [
    {
     "ename": "NameError",
     "evalue": "name 'candidates' is not defined",
     "output_type": "error",
     "traceback": [
      "\u001b[0;31m---------------------------------------------------------------------------\u001b[0m",
      "\u001b[0;31mNameError\u001b[0m                                 Traceback (most recent call last)",
      "\u001b[0;32m/tmp/ipykernel_63872/467115460.py\u001b[0m in \u001b[0;36m<module>\u001b[0;34m\u001b[0m\n\u001b[1;32m      1\u001b[0m \u001b[0;31m# TODO need to parse out text when classes not used\u001b[0m\u001b[0;34m\u001b[0m\u001b[0;34m\u001b[0m\u001b[0;34m\u001b[0m\u001b[0m\n\u001b[0;32m----> 2\u001b[0;31m \u001b[0;32mfor\u001b[0m \u001b[0mcandidate\u001b[0m \u001b[0;32min\u001b[0m \u001b[0mcandidates\u001b[0m\u001b[0;34m:\u001b[0m\u001b[0;34m\u001b[0m\u001b[0;34m\u001b[0m\u001b[0m\n\u001b[0m\u001b[1;32m      3\u001b[0m     \u001b[0mprint\u001b[0m\u001b[0;34m(\u001b[0m\u001b[0mcandidate\u001b[0m\u001b[0;34m.\u001b[0m\u001b[0mfind\u001b[0m\u001b[0;34m(\u001b[0m\u001b[0mtext\u001b[0m\u001b[0;34m=\u001b[0m\u001b[0mre\u001b[0m\u001b[0;34m.\u001b[0m\u001b[0mcompile\u001b[0m\u001b[0;34m(\u001b[0m\u001b[0;34m\"abv|ABV\"\u001b[0m\u001b[0;34m)\u001b[0m\u001b[0;34m)\u001b[0m\u001b[0;34m.\u001b[0m\u001b[0mparent\u001b[0m\u001b[0;34m.\u001b[0m\u001b[0mparent\u001b[0m\u001b[0;34m)\u001b[0m\u001b[0;34m\u001b[0m\u001b[0;34m\u001b[0m\u001b[0m\n",
      "\u001b[0;31mNameError\u001b[0m: name 'candidates' is not defined"
     ]
    }
   ],
   "source": [
    "# TODO need to parse out text when classes not used\n",
    "for candidate in candidates:\n",
    "    print(candidate.find(text=re.compile(\"abv|ABV\")).parent.parent)"
   ]
  },
  {
   "cell_type": "code",
   "execution_count": 13,
   "id": "b6c92734-4f46-44b4-9a17-94ff154219eb",
   "metadata": {},
   "outputs": [
    {
     "data": {
      "text/plain": [
       "'https://northcoastbrewing.com/beers/year-round-beers/pranqster-belgian-style-golden-ale/?PageSpeed=noscript'"
      ]
     },
     "execution_count": 13,
     "metadata": {},
     "output_type": "execute_result"
    }
   ],
   "source": [
    "links = response.css(\"a\").xpath(\"@href\")\n",
    "links[0].get()"
   ]
  }
 ],
 "metadata": {
  "kernelspec": {
   "display_name": "Python 3 (ipykernel)",
   "language": "python",
   "name": "python3"
  },
  "language_info": {
   "codemirror_mode": {
    "name": "ipython",
    "version": 3
   },
   "file_extension": ".py",
   "mimetype": "text/x-python",
   "name": "python",
   "nbconvert_exporter": "python",
   "pygments_lexer": "ipython3",
   "version": "3.8.10"
  }
 },
 "nbformat": 4,
 "nbformat_minor": 5
}
