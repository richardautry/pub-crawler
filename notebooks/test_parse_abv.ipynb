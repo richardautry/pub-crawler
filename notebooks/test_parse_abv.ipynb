{
 "cells": [
  {
   "cell_type": "code",
   "execution_count": 1,
   "id": "6aca287a-87ff-4c7d-9a83-05ac1ecb0e65",
   "metadata": {},
   "outputs": [],
   "source": [
    "import sys\n",
    "sys.path.append('..')\n",
    "\n",
    "from pub_crawler.tests.spiders.test_beer_spider import *"
   ]
  },
  {
   "cell_type": "code",
   "execution_count": 22,
   "id": "263612e9-9ba9-4c15-8bc7-2c94e67d0160",
   "metadata": {},
   "outputs": [
    {
     "data": {
      "text/plain": [
       "[]"
      ]
     },
     "execution_count": 22,
     "metadata": {},
     "output_type": "execute_result"
    }
   ],
   "source": [
    "# TODO: This needs to return \"Stone IPA\" as the name\n",
    "response = get_response(NORTH_COAST_PRANQSTER_DATA)\n",
    "value_gen  = list(BeerSpider.parse_abv(response))\n",
    "value_gen"
   ]
  },
  {
   "cell_type": "code",
   "execution_count": 23,
   "id": "519c54e5-57f2-4ff7-884b-55ec750dc8dc",
   "metadata": {},
   "outputs": [
    {
     "data": {
      "text/plain": [
       "[]"
      ]
     },
     "execution_count": 23,
     "metadata": {},
     "output_type": "execute_result"
    }
   ],
   "source": [
    "from pub_crawler.pub_crawler.spiders.beer_spider import *\n",
    "response_soup = BeautifulSoup(response.text, \"html.parser\")\n",
    "candidates = response_soup.find_all(correct_elements_exist)\n",
    "candidates"
   ]
  },
  {
   "cell_type": "code",
   "execution_count": 17,
   "id": "f412d648-3fb6-4a0c-9395-fcb7b3120342",
   "metadata": {},
   "outputs": [
    {
     "ename": "AttributeError",
     "evalue": "'NoneType' object has no attribute 'text'",
     "output_type": "error",
     "traceback": [
      "\u001b[0;31m---------------------------------------------------------------------------\u001b[0m",
      "\u001b[0;31mAttributeError\u001b[0m                            Traceback (most recent call last)",
      "\u001b[0;32m/tmp/ipykernel_6762/1405987108.py\u001b[0m in \u001b[0;36m<module>\u001b[0;34m\u001b[0m\n\u001b[1;32m      1\u001b[0m \u001b[0;32mfor\u001b[0m \u001b[0mcandidate\u001b[0m \u001b[0;32min\u001b[0m \u001b[0mcandidates\u001b[0m\u001b[0;34m:\u001b[0m\u001b[0;34m\u001b[0m\u001b[0;34m\u001b[0m\u001b[0m\n\u001b[0;32m----> 2\u001b[0;31m     \u001b[0mprint\u001b[0m\u001b[0;34m(\u001b[0m\u001b[0mcandidate\u001b[0m\u001b[0;34m.\u001b[0m\u001b[0mfind\u001b[0m\u001b[0;34m(\u001b[0m\u001b[0mclass_\u001b[0m\u001b[0;34m=\u001b[0m\u001b[0mre\u001b[0m\u001b[0;34m.\u001b[0m\u001b[0mcompile\u001b[0m\u001b[0;34m(\u001b[0m\u001b[0;34m\"beer-title\"\u001b[0m\u001b[0;34m)\u001b[0m\u001b[0;34m)\u001b[0m\u001b[0;34m.\u001b[0m\u001b[0mtext\u001b[0m\u001b[0;34m)\u001b[0m\u001b[0;34m\u001b[0m\u001b[0;34m\u001b[0m\u001b[0m\n\u001b[0m",
      "\u001b[0;31mAttributeError\u001b[0m: 'NoneType' object has no attribute 'text'"
     ]
    }
   ],
   "source": [
    "for candidate in candidates:\n",
    "    print(candidate.find(class_=re.compile(\"beer-title\")).text)"
   ]
  },
  {
   "cell_type": "code",
   "execution_count": 29,
   "id": "cc96855b-4b09-40bd-9da1-59240c8178bb",
   "metadata": {},
   "outputs": [],
   "source": [
    "def text_elements_exist(div):\n",
    "    # name = div.findAll(text=re.compile(\"name|Name|NAME\"))\n",
    "    style = div.findAll(text=re.compile(\"style|Style|STYLE\"))\n",
    "    abv = div.findAll(text=re.compile(\"abv|ABV\"))\n",
    "    \n",
    "    elements_found = (0 < len(elements) < 5 for elements in [style, abv])\n",
    "    return all(elements_found)"
   ]
  },
  {
   "cell_type": "code",
   "execution_count": 31,
   "id": "6a5e1d11-0522-48e4-8af4-d5537110a2cb",
   "metadata": {},
   "outputs": [
    {
     "data": {
      "text/plain": [
       "[<div class=\"et_pb_section et_pb_section_1 et_section_regular et_section_transparent\" id=\"vital_stats_section\"> <div class=\"et_pb_row et_pb_row_1 et_pb_row_fullwidth\"> <div class=\"et_pb_column et_pb_column_1_3 et_pb_column_2 et_pb_css_mix_blend_mode_passthrough et_pb_column_empty\"> </div><div class=\"et_pb_column et_pb_column_2_3 et_pb_column_3 et_pb_css_mix_blend_mode_passthrough et-last-child\"> <div class=\"et_pb_module et_pb_text et_pb_text_2 beer_stats et_pb_text_align_left et_pb_bg_layout_light\"> <div class=\"et_pb_text_inner\"><ul class=\"beer_stats_ul\" style=\"text-align:center\"> <li><strong>STYLE</strong><br/> Belgian Style Golden Ale</li> <li><strong>COLOR</strong><br/> Soft Gold</li> <li><strong>ABV</strong><br/> 7.6%</li> <li><strong>BITTERNESS</strong><br/> 20 IBUs</li> </ul></div> </div><div class=\"et_pb_module et_pb_text et_pb_text_3 et_pb_text_align_left et_pb_bg_layout_light\"> <div class=\"et_pb_text_inner\"><p><img alt=\"PranQster Ale - North Coast Brewing Company\" class=\"wp-image-7024 alignleft\" data-pagespeed-url-hash=\"188353864\" height=\"225\" loading=\"lazy\" onload=\"pagespeed.CriticalImages.checkImageForCriticality(this);\" sizes=\"(max-width: 269px) 100vw, 269px\" src=\"https://northcoastbrewing.com/wp-content/uploads/2017/11/pranqster-rating.png\" srcset=\"https://northcoastbrewing.com/wp-content/uploads/2017/11/pranqster-rating.png 644w, https://northcoastbrewing.com/wp-content/uploads/2017/11/pranqster-rating-300x251.png 300w\" width=\"269\"/><a aria-label=\"Non GMO Project opens in a new window\" class=\"adaNewWindowInfo\" href=\"http://nongmoproject.org\" rel=\"noopener noreferrer\" target=\"_blank\"><span class=\"wp_ada_hidden\"> opens in a new window</span><img alt=\"Non GMO Project\" class=\"alignleft\" data-pagespeed-url-hash=\"4245114504\" height=\"145\" loading=\"lazy\" onload=\"pagespeed.CriticalImages.checkImageForCriticality(this);\" src=\"https://northcoastbrewing.com/wp-content/uploads/2015/07/Non-GMO-logo.png\" style=\"margin-top:12%\" width=\"197\"/></a></p></div> </div> </div> </div><div class=\"et_pb_row et_pb_row_2 et_pb_row_fullwidth\"> <div class=\"et_pb_column et_pb_column_4_4 et_pb_column_4 et_pb_css_mix_blend_mode_passthrough et-last-child\"> <div class=\"et_pb_module et_pb_text et_pb_text_4 et_pb_text_align_left et_pb_bg_layout_light\" id=\"mascot\"> <div class=\"et_pb_text_inner\"><p style=\"text-align:left\"><img alt=\"PranQster\" class=\"size-full wp-image-7026 alignleft\" data-pagespeed-url-hash=\"651291172\" height=\"490\" loading=\"lazy\" onload=\"pagespeed.CriticalImages.checkImageForCriticality(this);\" sizes=\"(max-width: 566px) 100vw, 566px\" src=\"https://northcoastbrewing.com/wp-content/uploads/2017/11/PranQster.png\" srcset=\"https://northcoastbrewing.com/wp-content/uploads/2017/11/PranQster.png 709w, https://northcoastbrewing.com/wp-content/uploads/2017/11/PranQster-300x260.png 300w\" width=\"566\"/></p></div> </div> </div> </div> </div>,\n",
       " <div class=\"et_pb_row et_pb_row_1 et_pb_row_fullwidth\"> <div class=\"et_pb_column et_pb_column_1_3 et_pb_column_2 et_pb_css_mix_blend_mode_passthrough et_pb_column_empty\"> </div><div class=\"et_pb_column et_pb_column_2_3 et_pb_column_3 et_pb_css_mix_blend_mode_passthrough et-last-child\"> <div class=\"et_pb_module et_pb_text et_pb_text_2 beer_stats et_pb_text_align_left et_pb_bg_layout_light\"> <div class=\"et_pb_text_inner\"><ul class=\"beer_stats_ul\" style=\"text-align:center\"> <li><strong>STYLE</strong><br/> Belgian Style Golden Ale</li> <li><strong>COLOR</strong><br/> Soft Gold</li> <li><strong>ABV</strong><br/> 7.6%</li> <li><strong>BITTERNESS</strong><br/> 20 IBUs</li> </ul></div> </div><div class=\"et_pb_module et_pb_text et_pb_text_3 et_pb_text_align_left et_pb_bg_layout_light\"> <div class=\"et_pb_text_inner\"><p><img alt=\"PranQster Ale - North Coast Brewing Company\" class=\"wp-image-7024 alignleft\" data-pagespeed-url-hash=\"188353864\" height=\"225\" loading=\"lazy\" onload=\"pagespeed.CriticalImages.checkImageForCriticality(this);\" sizes=\"(max-width: 269px) 100vw, 269px\" src=\"https://northcoastbrewing.com/wp-content/uploads/2017/11/pranqster-rating.png\" srcset=\"https://northcoastbrewing.com/wp-content/uploads/2017/11/pranqster-rating.png 644w, https://northcoastbrewing.com/wp-content/uploads/2017/11/pranqster-rating-300x251.png 300w\" width=\"269\"/><a aria-label=\"Non GMO Project opens in a new window\" class=\"adaNewWindowInfo\" href=\"http://nongmoproject.org\" rel=\"noopener noreferrer\" target=\"_blank\"><span class=\"wp_ada_hidden\"> opens in a new window</span><img alt=\"Non GMO Project\" class=\"alignleft\" data-pagespeed-url-hash=\"4245114504\" height=\"145\" loading=\"lazy\" onload=\"pagespeed.CriticalImages.checkImageForCriticality(this);\" src=\"https://northcoastbrewing.com/wp-content/uploads/2015/07/Non-GMO-logo.png\" style=\"margin-top:12%\" width=\"197\"/></a></p></div> </div> </div> </div>,\n",
       " <div class=\"et_pb_column et_pb_column_2_3 et_pb_column_3 et_pb_css_mix_blend_mode_passthrough et-last-child\"> <div class=\"et_pb_module et_pb_text et_pb_text_2 beer_stats et_pb_text_align_left et_pb_bg_layout_light\"> <div class=\"et_pb_text_inner\"><ul class=\"beer_stats_ul\" style=\"text-align:center\"> <li><strong>STYLE</strong><br/> Belgian Style Golden Ale</li> <li><strong>COLOR</strong><br/> Soft Gold</li> <li><strong>ABV</strong><br/> 7.6%</li> <li><strong>BITTERNESS</strong><br/> 20 IBUs</li> </ul></div> </div><div class=\"et_pb_module et_pb_text et_pb_text_3 et_pb_text_align_left et_pb_bg_layout_light\"> <div class=\"et_pb_text_inner\"><p><img alt=\"PranQster Ale - North Coast Brewing Company\" class=\"wp-image-7024 alignleft\" data-pagespeed-url-hash=\"188353864\" height=\"225\" loading=\"lazy\" onload=\"pagespeed.CriticalImages.checkImageForCriticality(this);\" sizes=\"(max-width: 269px) 100vw, 269px\" src=\"https://northcoastbrewing.com/wp-content/uploads/2017/11/pranqster-rating.png\" srcset=\"https://northcoastbrewing.com/wp-content/uploads/2017/11/pranqster-rating.png 644w, https://northcoastbrewing.com/wp-content/uploads/2017/11/pranqster-rating-300x251.png 300w\" width=\"269\"/><a aria-label=\"Non GMO Project opens in a new window\" class=\"adaNewWindowInfo\" href=\"http://nongmoproject.org\" rel=\"noopener noreferrer\" target=\"_blank\"><span class=\"wp_ada_hidden\"> opens in a new window</span><img alt=\"Non GMO Project\" class=\"alignleft\" data-pagespeed-url-hash=\"4245114504\" height=\"145\" loading=\"lazy\" onload=\"pagespeed.CriticalImages.checkImageForCriticality(this);\" src=\"https://northcoastbrewing.com/wp-content/uploads/2015/07/Non-GMO-logo.png\" style=\"margin-top:12%\" width=\"197\"/></a></p></div> </div> </div>,\n",
       " <div class=\"et_pb_module et_pb_text et_pb_text_2 beer_stats et_pb_text_align_left et_pb_bg_layout_light\"> <div class=\"et_pb_text_inner\"><ul class=\"beer_stats_ul\" style=\"text-align:center\"> <li><strong>STYLE</strong><br/> Belgian Style Golden Ale</li> <li><strong>COLOR</strong><br/> Soft Gold</li> <li><strong>ABV</strong><br/> 7.6%</li> <li><strong>BITTERNESS</strong><br/> 20 IBUs</li> </ul></div> </div>,\n",
       " <div class=\"et_pb_text_inner\"><ul class=\"beer_stats_ul\" style=\"text-align:center\"> <li><strong>STYLE</strong><br/> Belgian Style Golden Ale</li> <li><strong>COLOR</strong><br/> Soft Gold</li> <li><strong>ABV</strong><br/> 7.6%</li> <li><strong>BITTERNESS</strong><br/> 20 IBUs</li> </ul></div>,\n",
       " <ul class=\"beer_stats_ul\" style=\"text-align:center\"> <li><strong>STYLE</strong><br/> Belgian Style Golden Ale</li> <li><strong>COLOR</strong><br/> Soft Gold</li> <li><strong>ABV</strong><br/> 7.6%</li> <li><strong>BITTERNESS</strong><br/> 20 IBUs</li> </ul>,\n",
       " <div class=\"et_pb_section et_pb_section_2 et_section_regular et_section_transparent\" id=\"vital_stats_section\"> <div class=\"et_pb_row et_pb_row_3 et_pb_row_fullwidth\"> <div class=\"et_pb_column et_pb_column_1_3 et_pb_column_5 et_pb_css_mix_blend_mode_passthrough\"> <div class=\"et_pb_module et_pb_text et_pb_text_5 et_pb_text_align_right et_pb_bg_layout_light\" id=\"mascot\"> <div class=\"et_pb_text_inner\"><p style=\"text-align:left\"><img alt=\"PranQster\" class=\"size-full wp-image-7026\" data-pagespeed-url-hash=\"651291172\" height=\"614\" loading=\"lazy\" onload=\"pagespeed.CriticalImages.checkImageForCriticality(this);\" sizes=\"(max-width: 709px) 100vw, 709px\" src=\"https://northcoastbrewing.com/wp-content/uploads/2017/11/PranQster.png\" srcset=\"https://northcoastbrewing.com/wp-content/uploads/2017/11/PranQster.png 709w, https://northcoastbrewing.com/wp-content/uploads/2017/11/PranQster-300x260.png 300w\" width=\"709\"/></p></div> </div> </div><div class=\"et_pb_column et_pb_column_2_3 et_pb_column_6 et_pb_css_mix_blend_mode_passthrough et-last-child\"> <div class=\"et_pb_module et_pb_text et_pb_text_6 beer_stats et_pb_text_align_left et_pb_bg_layout_light\"> <div class=\"et_pb_text_inner\"><ul> <li><strong>STYLE</strong><br/> Belgian Style Golden Ale</li> <li><strong>COLOR</strong><br/> Soft Gold</li> <li><strong>ABV</strong><br/> 7.6%</li> <li><strong>BITTERNESS</strong><br/> 20 IBUs</li> </ul></div> </div> </div> </div><div class=\"et_pb_row et_pb_row_4 et_pb_row_fullwidth\"> <div class=\"et_pb_column et_pb_column_1_2 et_pb_column_7 et_pb_css_mix_blend_mode_passthrough\"> <div class=\"et_pb_module et_pb_image et_pb_image_1\"> <span class=\"et_pb_image_wrap\"><img alt=\"Non GMO Project Verified\" class=\"wp-image-14072\" data-pagespeed-url-hash=\"4245114504\" height=\"220\" loading=\"lazy\" onload=\"pagespeed.CriticalImages.checkImageForCriticality(this);\" src=\"https://northcoastbrewing.com/wp-content/uploads/2015/07/Non-GMO-logo.png\" title=\"Non-GMO-logo\" width=\"300\"/></span> </div> </div><div class=\"et_pb_column et_pb_column_1_2 et_pb_column_8 et_pb_css_mix_blend_mode_passthrough et-last-child et_pb_column_empty\"> </div> </div> </div>,\n",
       " <div class=\"et_pb_row et_pb_row_3 et_pb_row_fullwidth\"> <div class=\"et_pb_column et_pb_column_1_3 et_pb_column_5 et_pb_css_mix_blend_mode_passthrough\"> <div class=\"et_pb_module et_pb_text et_pb_text_5 et_pb_text_align_right et_pb_bg_layout_light\" id=\"mascot\"> <div class=\"et_pb_text_inner\"><p style=\"text-align:left\"><img alt=\"PranQster\" class=\"size-full wp-image-7026\" data-pagespeed-url-hash=\"651291172\" height=\"614\" loading=\"lazy\" onload=\"pagespeed.CriticalImages.checkImageForCriticality(this);\" sizes=\"(max-width: 709px) 100vw, 709px\" src=\"https://northcoastbrewing.com/wp-content/uploads/2017/11/PranQster.png\" srcset=\"https://northcoastbrewing.com/wp-content/uploads/2017/11/PranQster.png 709w, https://northcoastbrewing.com/wp-content/uploads/2017/11/PranQster-300x260.png 300w\" width=\"709\"/></p></div> </div> </div><div class=\"et_pb_column et_pb_column_2_3 et_pb_column_6 et_pb_css_mix_blend_mode_passthrough et-last-child\"> <div class=\"et_pb_module et_pb_text et_pb_text_6 beer_stats et_pb_text_align_left et_pb_bg_layout_light\"> <div class=\"et_pb_text_inner\"><ul> <li><strong>STYLE</strong><br/> Belgian Style Golden Ale</li> <li><strong>COLOR</strong><br/> Soft Gold</li> <li><strong>ABV</strong><br/> 7.6%</li> <li><strong>BITTERNESS</strong><br/> 20 IBUs</li> </ul></div> </div> </div> </div>,\n",
       " <div class=\"et_pb_column et_pb_column_2_3 et_pb_column_6 et_pb_css_mix_blend_mode_passthrough et-last-child\"> <div class=\"et_pb_module et_pb_text et_pb_text_6 beer_stats et_pb_text_align_left et_pb_bg_layout_light\"> <div class=\"et_pb_text_inner\"><ul> <li><strong>STYLE</strong><br/> Belgian Style Golden Ale</li> <li><strong>COLOR</strong><br/> Soft Gold</li> <li><strong>ABV</strong><br/> 7.6%</li> <li><strong>BITTERNESS</strong><br/> 20 IBUs</li> </ul></div> </div> </div>,\n",
       " <div class=\"et_pb_module et_pb_text et_pb_text_6 beer_stats et_pb_text_align_left et_pb_bg_layout_light\"> <div class=\"et_pb_text_inner\"><ul> <li><strong>STYLE</strong><br/> Belgian Style Golden Ale</li> <li><strong>COLOR</strong><br/> Soft Gold</li> <li><strong>ABV</strong><br/> 7.6%</li> <li><strong>BITTERNESS</strong><br/> 20 IBUs</li> </ul></div> </div>,\n",
       " <div class=\"et_pb_text_inner\"><ul> <li><strong>STYLE</strong><br/> Belgian Style Golden Ale</li> <li><strong>COLOR</strong><br/> Soft Gold</li> <li><strong>ABV</strong><br/> 7.6%</li> <li><strong>BITTERNESS</strong><br/> 20 IBUs</li> </ul></div>,\n",
       " <ul> <li><strong>STYLE</strong><br/> Belgian Style Golden Ale</li> <li><strong>COLOR</strong><br/> Soft Gold</li> <li><strong>ABV</strong><br/> 7.6%</li> <li><strong>BITTERNESS</strong><br/> 20 IBUs</li> </ul>]"
      ]
     },
     "execution_count": 31,
     "metadata": {},
     "output_type": "execute_result"
    }
   ],
   "source": [
    "candidates = response_soup.find_all(text_elements_exist)\n",
    "candidates"
   ]
  },
  {
   "cell_type": "code",
   "execution_count": 39,
   "id": "eb5ef099-12a8-41bc-9f59-c320f7f08334",
   "metadata": {},
   "outputs": [
    {
     "name": "stdout",
     "output_type": "stream",
     "text": [
      "<li><strong>ABV</strong><br/> 7.6%</li>\n",
      "<li><strong>ABV</strong><br/> 7.6%</li>\n",
      "<li><strong>ABV</strong><br/> 7.6%</li>\n",
      "<li><strong>ABV</strong><br/> 7.6%</li>\n",
      "<li><strong>ABV</strong><br/> 7.6%</li>\n",
      "<li><strong>ABV</strong><br/> 7.6%</li>\n",
      "<li><strong>ABV</strong><br/> 7.6%</li>\n",
      "<li><strong>ABV</strong><br/> 7.6%</li>\n",
      "<li><strong>ABV</strong><br/> 7.6%</li>\n",
      "<li><strong>ABV</strong><br/> 7.6%</li>\n",
      "<li><strong>ABV</strong><br/> 7.6%</li>\n",
      "<li><strong>ABV</strong><br/> 7.6%</li>\n"
     ]
    }
   ],
   "source": [
    "# TODO need to parse out text when classes not used\n",
    "for candidate in candidates:\n",
    "    print(candidate.find(text=re.compile(\"abv|ABV\")).parent.parent)"
   ]
  }
 ],
 "metadata": {
  "kernelspec": {
   "display_name": "Python 3 (ipykernel)",
   "language": "python",
   "name": "python3"
  },
  "language_info": {
   "codemirror_mode": {
    "name": "ipython",
    "version": 3
   },
   "file_extension": ".py",
   "mimetype": "text/x-python",
   "name": "python",
   "nbconvert_exporter": "python",
   "pygments_lexer": "ipython3",
   "version": "3.8.10"
  }
 },
 "nbformat": 4,
 "nbformat_minor": 5
}
