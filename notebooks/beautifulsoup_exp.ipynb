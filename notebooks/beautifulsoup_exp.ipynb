{
 "cells": [
  {
   "cell_type": "code",
   "execution_count": 17,
   "id": "2cce124f-f29e-4bb6-96e4-51afefd09764",
   "metadata": {},
   "outputs": [],
   "source": [
    "import sys\n",
    "sys.path.append('..')\n",
    "\n",
    "from pub_crawler.tests.spiders.test_beer_spider import *"
   ]
  },
  {
   "cell_type": "code",
   "execution_count": 18,
   "id": "7ea5c222-54bb-4ceb-9e87-416dbeb796c2",
   "metadata": {},
   "outputs": [],
   "source": [
    "response = get_response(STONE_ENJOY_010122_DATA)"
   ]
  },
  {
   "cell_type": "code",
   "execution_count": 19,
   "id": "275c6838-14da-4bab-a290-7f2865736563",
   "metadata": {},
   "outputs": [],
   "source": [
    "from bs4 import BeautifulSoup\n",
    "import re\n",
    "soup = BeautifulSoup(response.text, 'html.parser')"
   ]
  },
  {
   "cell_type": "code",
   "execution_count": 20,
   "id": "2496156c-2636-4227-a7ab-b11dfa224df9",
   "metadata": {},
   "outputs": [
    {
     "data": {
      "text/plain": [
       "'ABV'"
      ]
     },
     "execution_count": 20,
     "metadata": {},
     "output_type": "execute_result"
    }
   ],
   "source": [
    "soup.find(text=re.compile(\"ABV\"))"
   ]
  },
  {
   "cell_type": "code",
   "execution_count": 21,
   "id": "f2633723-0f0e-415c-a297-e6b011f4167f",
   "metadata": {},
   "outputs": [],
   "source": [
    "import scrapy"
   ]
  },
  {
   "cell_type": "code",
   "execution_count": 22,
   "id": "41b64df4-75f9-4e69-ab2e-e1409abe3193",
   "metadata": {},
   "outputs": [],
   "source": [
    "# request = scrapy.Request(\"https://ardentcraftales.com/menus\")\n",
    "request = scrapy.Request(\"https://www.stonebrewing.com/beer/year-round-releases/stone-ipa#ageGatePassed\")"
   ]
  },
  {
   "cell_type": "code",
   "execution_count": 23,
   "id": "286e1d2a-cd48-4fd1-83cc-52bc1be5cde8",
   "metadata": {},
   "outputs": [],
   "source": [
    "def correct_elements_exist(div):\n",
    "    # Only one element per search\n",
    "    name = div.find_all(class_=re.compile(\"name\"))\n",
    "    style = div.find_all(class_=re.compile(\"beer-style\"))\n",
    "    abv = div.find_all(class_=re.compile(\"abv\"))\n",
    "    only_one_element = (0 < len(elements) < 5 for elements in [abv, name, style])\n",
    "    return all(only_one_element)\n",
    "    # All required elements exist\n",
    "    \n",
    "\n",
    "def data_exists(div):\n",
    "    name = div.find(class_=re.compile(\"name\")).text\n",
    "    style = div.find(class_=re.compile(\"beer-style\")).text\n",
    "    abv = div.find(class_=re.compile(\"abv\")).text\n",
    "    return all(name, style, abv)"
   ]
  },
  {
   "cell_type": "code",
   "execution_count": 25,
   "id": "6814b91d-c69f-4158-aa0b-173b5ed501a0",
   "metadata": {},
   "outputs": [
    {
     "data": {
      "text/plain": [
       "[{'name': 'Double IPA', 'style': 'Style\\nDouble IPA', 'abv': 'ABV\\n9.4%'}]"
      ]
     },
     "execution_count": 25,
     "metadata": {},
     "output_type": "execute_result"
    }
   ],
   "source": [
    "\"\"\"\n",
    "The basic idea here works if we can supplement the names for classes with different spellings AND\n",
    "supplement for finding text matches as well\n",
    "\n",
    "Some issues found here:\n",
    "- The name includes the style as bs4 is printing all text contained in an element\n",
    "- The search feels slow and could probably be optimized with better filtering technique\n",
    "- This works with Ardent, but need to test on other sites as well before starting to commit code\n",
    "- The `correct_elements_exist` filter func makes a HUGE assumption of have less that 5 elements match\n",
    "\"\"\"\n",
    "\n",
    "candidates = soup.find_all(correct_elements_exist)\n",
    "\n",
    "data = []\n",
    "for candidate in candidates:\n",
    "    d = {\n",
    "        \"name\": candidate.find(class_=re.compile(\"name\")).text.strip(),\n",
    "        \"style\": candidate.find(class_=re.compile(\"beer-style\")).text.strip(),\n",
    "        \"abv\": candidate.find(class_=re.compile(\"abv\")).text.strip()\n",
    "    }\n",
    "    if d not in data:\n",
    "        data.append(d)\n",
    "        \n",
    "data"
   ]
  },
  {
   "cell_type": "code",
   "execution_count": null,
   "id": "1f8eb50e-50da-437b-a980-4bfd72eb637e",
   "metadata": {},
   "outputs": [],
   "source": [
    "\"\"\"\n",
    "Testing with a Stone site shows some other issues like including the \"Style\" and \"ABV\" text in the results.\n",
    "Looks like result text should be split by '\\n' and then keywords eliminated (i.e. delete \"Style\" from the array)\n",
    "\"\"\""
   ]
  }
 ],
 "metadata": {
  "kernelspec": {
   "display_name": "Python 3 (ipykernel)",
   "language": "python",
   "name": "python3"
  },
  "language_info": {
   "codemirror_mode": {
    "name": "ipython",
    "version": 3
   },
   "file_extension": ".py",
   "mimetype": "text/x-python",
   "name": "python",
   "nbconvert_exporter": "python",
   "pygments_lexer": "ipython3",
   "version": "3.8.10"
  }
 },
 "nbformat": 4,
 "nbformat_minor": 5
}
